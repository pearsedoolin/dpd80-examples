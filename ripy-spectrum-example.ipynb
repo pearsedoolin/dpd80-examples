{
 "cells": [
  {
   "cell_type": "markdown",
   "metadata": {},
   "source": [
    "*ripy* Spectrum Example\n",
    "================\n",
    "Download this [example](_static/ripy-spectrum-example.ipynb)\n",
    "\n",
    "\n",
    "In this example the DPD80 is used measure the frequency spectrum (0 - 40 MHz) of the incident light. To remove noise in your signal, this example captures NAVG arrays of data, fourier transforms them seperately and averages them together."
   ]
  },
  {
   "cell_type": "code",
   "execution_count": 1,
   "metadata": {
    "scrolled": true
   },
   "outputs": [
    {
     "name": "stdout",
     "output_type": "stream",
     "text": [
      "Populating the interactive namespace from numpy and matplotlib\n"
     ]
    }
   ],
   "source": [
    "%pylab inline\n",
    "from ripy import Device"
   ]
  },
  {
   "cell_type": "code",
   "execution_count": 2,
   "metadata": {
    "collapsed": true
   },
   "outputs": [],
   "source": [
    "# Opens a ripy device that is connected to your computer\n",
    "d = Device()\n",
    "# To open a specific device, with your device's serial number. \n",
    "#d = Device(\"XXXX-XXXX-XX\")\n",
    "\n",
    "# Turn on high gain mode and the antialiasing filter\n",
    "d.highgain = True\n",
    "d.antialias = True"
   ]
  },
  {
   "cell_type": "code",
   "execution_count": 3,
   "metadata": {
    "collapsed": true
   },
   "outputs": [],
   "source": [
    "BW = 100 # Resolution Bandwidth of the spectrum in Hz.\n",
    "NAVG = 100 # Number of spectrums to average together.\n",
    "RATE = 80e6 # sample rate of the DPD80\n",
    "NFT = int(RATE / BW) # Number of samples transform in each average."
   ]
  },
  {
   "cell_type": "code",
   "execution_count": 4,
   "metadata": {},
   "outputs": [
    {
     "name": "stdout",
     "output_type": "stream",
     "text": [
      "FFTing data set: 0\n",
      "FFTing data set: 10\n",
      "FFTing data set: 20\n",
      "FFTing data set: 30\n",
      "FFTing data set: 40\n",
      "FFTing data set: 50\n",
      "FFTing data set: 60\n",
      "FFTing data set: 70\n",
      "FFTing data set: 80\n",
      "FFTing data set: 90\n"
     ]
    }
   ],
   "source": [
    "# Calculate the single-sided Power Spectral Density and average\n",
    "# over NAVG collections.\n",
    "\n",
    "# PSD will be in units of uW^2 / Hz\n",
    "PSD = zeros(NFT//2 + 1)\n",
    "\n",
    "# Calculate the frequnecies of the fourier transform\n",
    "fs = fft.rfftfreq(NFT, 1. / RATE)\n",
    "\n",
    "#Collect NAVG sets of data, fourier transform and average\n",
    "for i in range(NAVG):\n",
    "    data_uW = d.get_calibrated_data(NFT)\n",
    "    fft_data = fft.rfft(data_uW)\n",
    "    PSD += real(fft_data * conj(fft_data)) / float(NFT * RATE * NAVG) * 2\n",
    "    \n",
    "    if i % 10 == 0:\n",
    "        print(\"FFTing data set: %d\" %i)\n",
    "\n",
    "# Multiplied everything by 2 for single-sided PSD, but shouldn't account for DC bin twice.\n",
    "PSD[0] /= 2."
   ]
  },
  {
   "cell_type": "code",
   "execution_count": 5,
   "metadata": {},
   "outputs": [
    {
     "data": {
      "image/png": "[encoded data removed]",
      "text/plain": [
       "<matplotlib.figure.Figure at 0x2a682b4c6a0>"
      ]
     },
     "metadata": {},
     "output_type": "display_data"
    }
   ],
   "source": [
    "gain_label = \"highgain\" if d.highgain else \"lowgain\"\n",
    "filter_label = \"filter_on\" if d.antialias else \"filter_off\"\n",
    "BW_label = str(BW) + \" Hz\"\n",
    "\n",
    "# Plot the spectrum\n",
    "figure(figsize = (6,4))\n",
    "title(\"DPD80 Spectrum, %s RBW, %s\" % (BW_label, gain_label))\n",
    "\n",
    "ylabel(\"PSD (pW / $\\sqrt{\\mathrm{Hz}}$)\")\n",
    "xlabel(\"Frequency (MHz)\")\n",
    "yscale('log')\n",
    "xlim(0, 40)\n",
    "\n",
    "plot(fs / 1e6, PSD**.5 * 1e6, linewidth=0.2)\n",
    "tight_layout()\n",
    "      \n",
    "#savefig(filename + \".pdf\")\n",
    "#savefig(filename + \".png\")"
   ]
  },
  {
   "cell_type": "markdown",
   "metadata": {},
   "source": [
    "Download this [example](_static/ripy-spectrum-example.ipynb)"
   ]
  }
 ],
 "metadata": {
  "anaconda-cloud": {},
  "kernelspec": {
   "display_name": "Python 3",
   "language": "python",
   "name": "python3"
  },
  "language_info": {
   "codemirror_mode": {
    "name": "ipython",
    "version": 3
   },
   "file_extension": ".py",
   "mimetype": "text/x-python",
   "name": "python",
   "nbconvert_exporter": "python",
   "pygments_lexer": "ipython3",
   "version": "3.6.1"
  }
 },
 "nbformat": 4,
 "nbformat_minor": 1
}
